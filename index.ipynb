{
 "cells": [
  {
   "cell_type": "markdown",
   "metadata": {},
   "source": [
    "# Convolutional Neural Networks - Codealong\n",
    "\n",
    "## Introduction\n",
    "\n",
    "In this codealong, we will reinvestigate our previous Santa image classification example. To do this, we will review loading a dataset from a nested directory structure and building a baseline model. From there, we'll build a CNN and demonstrate its improved performance on image recognition tasks. It is recommended you run the cells in order to further explore variables and investigate the code snippets themselves. However, please note that some cells (particularly training cells later on) may take several minutes to run. (On a Macbook pro the entire notebook took ~15 minutes to run.)\n",
    "\n",
    "## Objectives  \n",
    "\n",
    "You will be able to:\n",
    "\n",
    "- Load images from a hierarchical file structure using an image datagenerator \n",
    "- Explain why one might augment image data when training a neural network \n",
    "- Apply data augmentation to image files before training a neural network \n",
    "- Build a CNN using Keras "
   ]
  },
  {
   "cell_type": "markdown",
   "metadata": {},
   "source": [
    "## Properly store your images \n",
    "\n",
    "When you're analyzing your image data, file management is important. We will be using the santa images again, but this time, they are stored in two folders: `santa` and `not_santa`. We want to work with a `train`, `validation`, and `test` datasets now, as we know by now that this is the best way to obtain unbiased estimate of your model performance.  \n",
    "\n",
    "Let's import libraries `os` and `shutil`, as we'll need them to create the new folders and move the new files in there."
   ]
  },
  {
   "cell_type": "code",
   "execution_count": 1,
   "metadata": {
    "ExecuteTime": {
     "end_time": "2020-02-26T16:37:12.042535Z",
     "start_time": "2020-02-26T16:37:12.037516Z"
    }
   },
   "outputs": [],
   "source": [
    "import os, shutil"
   ]
  },
  {
   "cell_type": "markdown",
   "metadata": {},
   "source": [
    "Below we create three objects representing the existing directories: `data/santa/` as `data_santa_dir` and `data/not_santa/` as `data_not_santa_dir`. We will create a new directory `split/` as `new_dir`, where we will split the dataset in three groups (or three subdirectories): `train`, `test`, and `validation`, each containing `santa` and `not_santa` subfolders. The final desired structure is represented below: \n",
    "\n",
    "![title](images/folder_structure.png)"
   ]
  },
  {
   "cell_type": "code",
   "execution_count": 2,
   "metadata": {
    "ExecuteTime": {
     "end_time": "2020-02-26T16:38:14.166932Z",
     "start_time": "2020-02-26T16:38:14.162944Z"
    }
   },
   "outputs": [],
   "source": [
    "data_santa_dir = 'data/santa/'\n",
    "data_not_santa_dir = 'data/not_santa/'\n",
    "new_dir = 'split/'"
   ]
  },
  {
   "cell_type": "code",
   "execution_count": 6,
   "metadata": {
    "ExecuteTime": {
     "end_time": "2020-02-26T16:39:18.769612Z",
     "start_time": "2020-02-26T16:39:18.678630Z"
    }
   },
   "outputs": [
    {
     "name": "stdout",
     "output_type": "stream",
     "text": [
      "total 0\n",
      "drwxr-xr-x 1 deon 197609 0 Feb 26 10:33 validation\n",
      "drwxr-xr-x 1 deon 197609 0 Feb 26 10:33 train\n",
      "drwxr-xr-x 1 deon 197609 0 Feb 26 10:33 test\n"
     ]
    }
   ],
   "source": [
    "!ls -lt './split/'\n"
   ]
  },
  {
   "cell_type": "markdown",
   "metadata": {},
   "source": [
    "You can use `os.listdir()` to create an object that stores all the relevant image names. "
   ]
  },
  {
   "cell_type": "code",
   "execution_count": 7,
   "metadata": {
    "ExecuteTime": {
     "end_time": "2020-02-26T16:40:15.770619Z",
     "start_time": "2020-02-26T16:40:15.763632Z"
    }
   },
   "outputs": [],
   "source": [
    "imgs_santa = [file for file in os.listdir(data_santa_dir) if file.endswith('.jpg')]"
   ]
  },
  {
   "cell_type": "code",
   "execution_count": 8,
   "metadata": {
    "ExecuteTime": {
     "end_time": "2020-02-26T16:40:17.447854Z",
     "start_time": "2020-02-26T16:40:17.430854Z"
    }
   },
   "outputs": [
    {
     "data": {
      "text/plain": [
       "['00000000.jpg',\n",
       " '00000001.jpg',\n",
       " '00000003.jpg',\n",
       " '00000004.jpg',\n",
       " '00000005.jpg',\n",
       " '00000006.jpg',\n",
       " '00000007.jpg',\n",
       " '00000008.jpg',\n",
       " '00000009.jpg',\n",
       " '00000010.jpg']"
      ]
     },
     "execution_count": 8,
     "metadata": {},
     "output_type": "execute_result"
    }
   ],
   "source": [
    "imgs_santa[0:10]"
   ]
  },
  {
   "cell_type": "markdown",
   "metadata": {},
   "source": [
    "Let's see how many images there are in the `santa` directory."
   ]
  },
  {
   "cell_type": "code",
   "execution_count": 9,
   "metadata": {
    "ExecuteTime": {
     "end_time": "2020-02-26T16:43:12.361602Z",
     "start_time": "2020-02-26T16:43:12.355619Z"
    }
   },
   "outputs": [
    {
     "name": "stdout",
     "output_type": "stream",
     "text": [
      "There are 461 santa images\n"
     ]
    }
   ],
   "source": [
    "print('There are', len(imgs_santa), 'santa images')"
   ]
  },
  {
   "cell_type": "markdown",
   "metadata": {},
   "source": [
    "Now, repeat this for the `not_santa` directory: "
   ]
  },
  {
   "cell_type": "code",
   "execution_count": 10,
   "metadata": {
    "ExecuteTime": {
     "end_time": "2020-02-26T16:43:22.847014Z",
     "start_time": "2020-02-26T16:43:22.840033Z"
    }
   },
   "outputs": [],
   "source": [
    "imgs_not_santa = [file for file in os.listdir(data_not_santa_dir) if file.endswith('.jpg')]"
   ]
  },
  {
   "cell_type": "code",
   "execution_count": 11,
   "metadata": {
    "ExecuteTime": {
     "end_time": "2020-02-26T16:43:23.689890Z",
     "start_time": "2020-02-26T16:43:23.684897Z"
    }
   },
   "outputs": [
    {
     "name": "stdout",
     "output_type": "stream",
     "text": [
      "There are 461 images without santa\n"
     ]
    }
   ],
   "source": [
    "print('There are', len(imgs_not_santa), 'images without santa')"
   ]
  },
  {
   "cell_type": "markdown",
   "metadata": {},
   "source": [
    "Create all the folders and subfolders in order to get the structure represented above. You can use `os.path.join()` to create strings that will be used later on to generate new directories."
   ]
  },
  {
   "cell_type": "code",
   "execution_count": 12,
   "metadata": {
    "ExecuteTime": {
     "end_time": "2020-02-26T16:45:18.239728Z",
     "start_time": "2020-02-26T16:45:18.091752Z"
    }
   },
   "outputs": [
    {
     "ename": "FileExistsError",
     "evalue": "[WinError 183] Cannot create a file when that file already exists: 'split/'",
     "output_type": "error",
     "traceback": [
      "\u001b[1;31m---------------------------------------------------------------------------\u001b[0m",
      "\u001b[1;31mFileExistsError\u001b[0m                           Traceback (most recent call last)",
      "\u001b[1;32m<ipython-input-12-0d1f8d3cb245>\u001b[0m in \u001b[0;36m<module>\u001b[1;34m()\u001b[0m\n\u001b[1;32m----> 1\u001b[1;33m \u001b[0mos\u001b[0m\u001b[1;33m.\u001b[0m\u001b[0mmkdir\u001b[0m\u001b[1;33m(\u001b[0m\u001b[0mnew_dir\u001b[0m\u001b[1;33m)\u001b[0m\u001b[1;33m\u001b[0m\u001b[0m\n\u001b[0m",
      "\u001b[1;31mFileExistsError\u001b[0m: [WinError 183] Cannot create a file when that file already exists: 'split/'"
     ]
    }
   ],
   "source": [
    "os.mkdir(new_dir)"
   ]
  },
  {
   "cell_type": "code",
   "execution_count": 13,
   "metadata": {
    "ExecuteTime": {
     "end_time": "2020-02-26T16:45:39.439790Z",
     "start_time": "2020-02-26T16:45:39.433784Z"
    }
   },
   "outputs": [],
   "source": [
    "train_folder = os.path.join(new_dir, 'train')\n",
    "train_santa = os.path.join(train_folder, 'santa')\n",
    "train_not_santa = os.path.join(train_folder, 'not_santa')\n",
    "\n",
    "test_folder = os.path.join(new_dir, 'test')\n",
    "test_santa = os.path.join(test_folder, 'santa')\n",
    "test_not_santa = os.path.join(test_folder, 'not_santa')\n",
    "\n",
    "val_folder = os.path.join(new_dir, 'validation')\n",
    "val_santa = os.path.join(val_folder, 'santa')\n",
    "val_not_santa = os.path.join(val_folder, 'not_santa')"
   ]
  },
  {
   "cell_type": "code",
   "execution_count": 14,
   "metadata": {
    "ExecuteTime": {
     "end_time": "2020-02-26T16:45:54.377184Z",
     "start_time": "2020-02-26T16:45:54.369184Z"
    }
   },
   "outputs": [
    {
     "data": {
      "text/plain": [
       "'split/train\\\\santa'"
      ]
     },
     "execution_count": 14,
     "metadata": {},
     "output_type": "execute_result"
    }
   ],
   "source": [
    "train_santa"
   ]
  },
  {
   "cell_type": "markdown",
   "metadata": {},
   "source": [
    "Now use all the path strings you created to make new directories. You can use `os.mkdir()` to do this. Go have a look at your directory and see if this worked!"
   ]
  },
  {
   "cell_type": "code",
   "execution_count": 11,
   "metadata": {},
   "outputs": [],
   "source": [
    "os.mkdir(test_folder)\n",
    "os.mkdir(test_santa)\n",
    "os.mkdir(test_not_santa)\n",
    "\n",
    "os.mkdir(train_folder)\n",
    "os.mkdir(train_santa)\n",
    "os.mkdir(train_not_santa)\n",
    "\n",
    "os.mkdir(val_folder)\n",
    "os.mkdir(val_santa)\n",
    "os.mkdir(val_not_santa)"
   ]
  },
  {
   "cell_type": "markdown",
   "metadata": {},
   "source": [
    "Copy the Santa images in the three santa subfolders. Let's put the first 271 images in the training set, the next 100 images in the validation set and the final 90 images in the test set."
   ]
  },
  {
   "cell_type": "code",
   "execution_count": 12,
   "metadata": {},
   "outputs": [],
   "source": [
    "# train santa\n",
    "imgs = imgs_santa[:271]\n",
    "for img in imgs:\n",
    "    origin = os.path.join(data_santa_dir, img)\n",
    "    destination = os.path.join(train_santa, img)\n",
    "    shutil.copyfile(origin, destination)"
   ]
  },
  {
   "cell_type": "code",
   "execution_count": 13,
   "metadata": {},
   "outputs": [],
   "source": [
    "# validation santa\n",
    "imgs = imgs_santa[271:371]\n",
    "for img in imgs:\n",
    "    origin = os.path.join(data_santa_dir, img)\n",
    "    destination = os.path.join(val_santa, img)\n",
    "    shutil.copyfile(origin, destination)"
   ]
  },
  {
   "cell_type": "code",
   "execution_count": 14,
   "metadata": {},
   "outputs": [],
   "source": [
    "# test santa\n",
    "imgs = imgs_santa[371:]\n",
    "for img in imgs:\n",
    "    origin = os.path.join(data_santa_dir, img)\n",
    "    destination = os.path.join(test_santa, img)\n",
    "    shutil.copyfile(origin, destination)"
   ]
  },
  {
   "cell_type": "markdown",
   "metadata": {},
   "source": [
    "Now, repeat all this for the `not_santa` images!"
   ]
  },
  {
   "cell_type": "code",
   "execution_count": 15,
   "metadata": {},
   "outputs": [],
   "source": [
    "# train not_santa\n",
    "imgs = imgs_not_santa[:271]\n",
    "for img in imgs:\n",
    "    origin = os.path.join(data_not_santa_dir, img)\n",
    "    destination = os.path.join(train_not_santa, img)\n",
    "    shutil.copyfile(origin, destination)\n",
    "# validation not_santa\n",
    "imgs = imgs_not_santa[271:371]\n",
    "for img in imgs:\n",
    "    origin = os.path.join(data_not_santa_dir, img)\n",
    "    destination = os.path.join(val_not_santa, img)\n",
    "    shutil.copyfile(origin, destination)\n",
    "# test not_santa\n",
    "imgs = imgs_not_santa[371:]\n",
    "for img in imgs:\n",
    "    origin = os.path.join(data_not_santa_dir, img)\n",
    "    destination = os.path.join(test_not_santa, img)\n",
    "    shutil.copyfile(origin, destination)"
   ]
  },
  {
   "cell_type": "markdown",
   "metadata": {},
   "source": [
    "Let's print out how many images we have in each directory so we know for sure our numbers are right!"
   ]
  },
  {
   "cell_type": "code",
   "execution_count": 15,
   "metadata": {
    "ExecuteTime": {
     "end_time": "2020-02-26T16:49:58.286804Z",
     "start_time": "2020-02-26T16:49:58.261800Z"
    }
   },
   "outputs": [
    {
     "name": "stdout",
     "output_type": "stream",
     "text": [
      "There are 271 santa images in the training set\n"
     ]
    }
   ],
   "source": [
    "print('There are', len(os.listdir(train_santa)), 'santa images in the training set')"
   ]
  },
  {
   "cell_type": "code",
   "execution_count": 16,
   "metadata": {
    "ExecuteTime": {
     "end_time": "2020-02-26T16:49:59.388017Z",
     "start_time": "2020-02-26T16:49:59.380007Z"
    }
   },
   "outputs": [
    {
     "name": "stdout",
     "output_type": "stream",
     "text": [
      "There are 100 santa images in the validation set\n"
     ]
    }
   ],
   "source": [
    "print('There are', len(os.listdir(val_santa)), 'santa images in the validation set')"
   ]
  },
  {
   "cell_type": "code",
   "execution_count": 17,
   "metadata": {
    "ExecuteTime": {
     "end_time": "2020-02-26T16:50:00.236815Z",
     "start_time": "2020-02-26T16:50:00.228813Z"
    }
   },
   "outputs": [
    {
     "name": "stdout",
     "output_type": "stream",
     "text": [
      "There are 90 santa images in the test set\n"
     ]
    }
   ],
   "source": [
    "print('There are', len(os.listdir(test_santa)), 'santa images in the test set')"
   ]
  },
  {
   "cell_type": "code",
   "execution_count": 18,
   "metadata": {
    "ExecuteTime": {
     "end_time": "2020-02-26T16:50:00.954868Z",
     "start_time": "2020-02-26T16:50:00.946872Z"
    }
   },
   "outputs": [
    {
     "name": "stdout",
     "output_type": "stream",
     "text": [
      "There are 271 images without santa in the train set\n"
     ]
    }
   ],
   "source": [
    "print('There are', len(os.listdir(train_not_santa)), 'images without santa in the train set')"
   ]
  },
  {
   "cell_type": "code",
   "execution_count": 19,
   "metadata": {
    "ExecuteTime": {
     "end_time": "2020-02-26T16:50:01.635582Z",
     "start_time": "2020-02-26T16:50:01.626600Z"
    }
   },
   "outputs": [
    {
     "name": "stdout",
     "output_type": "stream",
     "text": [
      "There are 100 images without santa in the validation set\n"
     ]
    }
   ],
   "source": [
    "print('There are', len(os.listdir(val_not_santa)), 'images without santa in the validation set')"
   ]
  },
  {
   "cell_type": "code",
   "execution_count": 20,
   "metadata": {
    "ExecuteTime": {
     "end_time": "2020-02-26T16:50:03.504375Z",
     "start_time": "2020-02-26T16:50:03.496387Z"
    }
   },
   "outputs": [
    {
     "name": "stdout",
     "output_type": "stream",
     "text": [
      "There are 90 images without santa in the test set\n"
     ]
    }
   ],
   "source": [
    "print('There are', len(os.listdir(test_not_santa)), 'images without santa in the test set')"
   ]
  },
  {
   "cell_type": "markdown",
   "metadata": {},
   "source": [
    "## Use a densely connected network as a baseline"
   ]
  },
  {
   "cell_type": "markdown",
   "metadata": {},
   "source": [
    "Now that we've a handle on our data, we can easily use Keras' module with image-processing tools. Let's import the necessary libraries below. "
   ]
  },
  {
   "cell_type": "code",
   "execution_count": 21,
   "metadata": {
    "ExecuteTime": {
     "end_time": "2020-02-26T16:50:33.341060Z",
     "start_time": "2020-02-26T16:50:25.870663Z"
    }
   },
   "outputs": [
    {
     "name": "stderr",
     "output_type": "stream",
     "text": [
      "Using TensorFlow backend.\n"
     ]
    }
   ],
   "source": [
    "import time\n",
    "import matplotlib.pyplot as plt\n",
    "import scipy\n",
    "import numpy as np\n",
    "from PIL import Image\n",
    "from scipy import ndimage\n",
    "from keras.preprocessing.image import ImageDataGenerator, array_to_img, img_to_array, load_img\n",
    "\n",
    "np.random.seed(123)"
   ]
  },
  {
   "cell_type": "code",
   "execution_count": 22,
   "metadata": {
    "ExecuteTime": {
     "end_time": "2020-02-26T16:54:52.451633Z",
     "start_time": "2020-02-26T16:54:52.119522Z"
    }
   },
   "outputs": [
    {
     "name": "stdout",
     "output_type": "stream",
     "text": [
      "Found 180 images belonging to 2 classes.\n",
      "Found 200 images belonging to 2 classes.\n",
      "Found 542 images belonging to 2 classes.\n"
     ]
    }
   ],
   "source": [
    "# get all the data in the directory split/test (180 images), and reshape them\n",
    "test_generator = ImageDataGenerator(rescale=1./255).flow_from_directory(\n",
    "        test_folder, \n",
    "        target_size=(64, 64), batch_size = 180) \n",
    "\n",
    "# get all the data in the directory split/validation (200 images), and reshape them\n",
    "val_generator = ImageDataGenerator(rescale=1./255).flow_from_directory(\n",
    "        val_folder, \n",
    "        target_size=(64, 64), batch_size = 200)\n",
    "\n",
    "# get all the data in the directory split/train (542 images), and reshape them\n",
    "train_generator = ImageDataGenerator(rescale=1./255).flow_from_directory(\n",
    "        train_folder, \n",
    "        target_size=(64, 64), batch_size=542)"
   ]
  },
  {
   "cell_type": "code",
   "execution_count": 23,
   "metadata": {
    "ExecuteTime": {
     "end_time": "2020-02-26T16:57:29.120348Z",
     "start_time": "2020-02-26T16:57:14.133621Z"
    }
   },
   "outputs": [],
   "source": [
    "# create the data sets\n",
    "train_images, train_labels = next(train_generator)\n",
    "test_images, test_labels = next(test_generator)\n",
    "val_images, val_labels = next(val_generator)"
   ]
  },
  {
   "cell_type": "code",
   "execution_count": 24,
   "metadata": {
    "ExecuteTime": {
     "end_time": "2020-02-26T16:57:29.276302Z",
     "start_time": "2020-02-26T16:57:29.261303Z"
    }
   },
   "outputs": [
    {
     "name": "stdout",
     "output_type": "stream",
     "text": [
      "Number of training samples: 542\n",
      "Number of testing samples: 180\n",
      "Number of validation samples: 200\n",
      "train_images shape: (542, 64, 64, 3)\n",
      "train_labels shape: (542, 2)\n",
      "test_images shape: (180, 64, 64, 3)\n",
      "test_labels shape: (180, 2)\n",
      "val_images shape: (200, 64, 64, 3)\n",
      "val_labels shape: (200, 2)\n"
     ]
    }
   ],
   "source": [
    "# Explore your dataset again\n",
    "m_train = train_images.shape[0]\n",
    "num_px = train_images.shape[1]\n",
    "m_test = test_images.shape[0]\n",
    "m_val = val_images.shape[0]\n",
    "\n",
    "print (\"Number of training samples: \" + str(m_train))\n",
    "print (\"Number of testing samples: \" + str(m_test))\n",
    "print (\"Number of validation samples: \" + str(m_val))\n",
    "print (\"train_images shape: \" + str(train_images.shape))\n",
    "print (\"train_labels shape: \" + str(train_labels.shape))\n",
    "print (\"test_images shape: \" + str(test_images.shape))\n",
    "print (\"test_labels shape: \" + str(test_labels.shape))\n",
    "print (\"val_images shape: \" + str(val_images.shape))\n",
    "print (\"val_labels shape: \" + str(val_labels.shape))"
   ]
  },
  {
   "cell_type": "code",
   "execution_count": 25,
   "metadata": {
    "ExecuteTime": {
     "end_time": "2020-02-26T16:57:38.009311Z",
     "start_time": "2020-02-26T16:57:38.002295Z"
    }
   },
   "outputs": [
    {
     "name": "stdout",
     "output_type": "stream",
     "text": [
      "(542, 12288)\n",
      "(180, 12288)\n",
      "(200, 12288)\n"
     ]
    }
   ],
   "source": [
    "train_img = train_images.reshape(train_images.shape[0], -1)\n",
    "test_img = test_images.reshape(test_images.shape[0], -1)\n",
    "val_img = val_images.reshape(val_images.shape[0], -1)\n",
    "\n",
    "print(train_img.shape)\n",
    "print(test_img.shape)\n",
    "print(val_img.shape)"
   ]
  },
  {
   "cell_type": "code",
   "execution_count": 26,
   "metadata": {
    "ExecuteTime": {
     "end_time": "2020-02-26T16:57:42.924787Z",
     "start_time": "2020-02-26T16:57:42.920786Z"
    }
   },
   "outputs": [],
   "source": [
    "train_y = np.reshape(train_labels[:,0], (542,1))\n",
    "test_y = np.reshape(test_labels[:,0], (180,1))\n",
    "val_y = np.reshape(val_labels[:,0], (200,1))"
   ]
  },
  {
   "cell_type": "code",
   "execution_count": 27,
   "metadata": {
    "ExecuteTime": {
     "end_time": "2020-02-26T16:58:29.464319Z",
     "start_time": "2020-02-26T16:58:29.340326Z"
    }
   },
   "outputs": [],
   "source": [
    "# Build a baseline fully connected model\n",
    "from keras import models\n",
    "from keras import layers\n",
    "np.random.seed(123)\n",
    "model = models.Sequential()\n",
    "model.add(layers.Dense(20, activation='relu', input_shape=(12288,))) # 2 hidden layers\n",
    "model.add(layers.Dense(7, activation='relu'))\n",
    "model.add(layers.Dense(5, activation='relu'))\n",
    "model.add(layers.Dense(1, activation='sigmoid'))"
   ]
  },
  {
   "cell_type": "code",
   "execution_count": 28,
   "metadata": {
    "ExecuteTime": {
     "end_time": "2020-02-26T16:58:48.208877Z",
     "start_time": "2020-02-26T16:58:38.252305Z"
    },
    "scrolled": true
   },
   "outputs": [
    {
     "name": "stdout",
     "output_type": "stream",
     "text": [
      "Train on 542 samples, validate on 200 samples\n",
      "Epoch 1/50\n",
      "542/542 [==============================] - 0s 852us/step - loss: 0.6999 - acc: 0.4631 - val_loss: 0.6926 - val_acc: 0.4400\n",
      "Epoch 2/50\n",
      "542/542 [==============================] - 0s 314us/step - loss: 0.6956 - acc: 0.5424 - val_loss: 0.6660 - val_acc: 0.4900\n",
      "Epoch 3/50\n",
      "542/542 [==============================] - 0s 323us/step - loss: 0.6682 - acc: 0.5572 - val_loss: 0.6707 - val_acc: 0.6300\n",
      "Epoch 4/50\n",
      "542/542 [==============================] - 0s 314us/step - loss: 0.6462 - acc: 0.6052 - val_loss: 0.6162 - val_acc: 0.5750\n",
      "Epoch 5/50\n",
      "542/542 [==============================] - 0s 354us/step - loss: 0.7092 - acc: 0.5055 - val_loss: 0.6851 - val_acc: 0.5750\n",
      "Epoch 6/50\n",
      "542/542 [==============================] - 0s 312us/step - loss: 0.6653 - acc: 0.5959 - val_loss: 0.6295 - val_acc: 0.5650\n",
      "Epoch 7/50\n",
      "542/542 [==============================] - 0s 315us/step - loss: 0.6276 - acc: 0.6697 - val_loss: 0.6769 - val_acc: 0.6000\n",
      "Epoch 8/50\n",
      "542/542 [==============================] - 0s 323us/step - loss: 0.6250 - acc: 0.6365 - val_loss: 0.6760 - val_acc: 0.6050\n",
      "Epoch 9/50\n",
      "542/542 [==============================] - 0s 315us/step - loss: 0.5743 - acc: 0.7177 - val_loss: 0.6876 - val_acc: 0.6350\n",
      "Epoch 10/50\n",
      "542/542 [==============================] - 0s 352us/step - loss: 0.6070 - acc: 0.7030 - val_loss: 0.5178 - val_acc: 0.8000\n",
      "Epoch 11/50\n",
      "542/542 [==============================] - 0s 367us/step - loss: 0.6049 - acc: 0.6531 - val_loss: 0.5167 - val_acc: 0.8050\n",
      "Epoch 12/50\n",
      "542/542 [==============================] - 0s 424us/step - loss: 0.5915 - acc: 0.7103 - val_loss: 0.6883 - val_acc: 0.4950\n",
      "Epoch 13/50\n",
      "542/542 [==============================] - 0s 347us/step - loss: 0.5520 - acc: 0.7177 - val_loss: 0.4947 - val_acc: 0.8200\n",
      "Epoch 14/50\n",
      "542/542 [==============================] - 0s 345us/step - loss: 0.5433 - acc: 0.7306 - val_loss: 0.4957 - val_acc: 0.7750\n",
      "Epoch 15/50\n",
      "542/542 [==============================] - 0s 327us/step - loss: 0.5325 - acc: 0.7435 - val_loss: 0.6719 - val_acc: 0.6700\n",
      "Epoch 16/50\n",
      "542/542 [==============================] - 0s 395us/step - loss: 0.5064 - acc: 0.7657 - val_loss: 0.5787 - val_acc: 0.6200\n",
      "Epoch 17/50\n",
      "542/542 [==============================] - 0s 417us/step - loss: 0.5247 - acc: 0.7269 - val_loss: 0.4691 - val_acc: 0.8250\n",
      "Epoch 18/50\n",
      "542/542 [==============================] - 0s 317us/step - loss: 0.5006 - acc: 0.7657 - val_loss: 0.5142 - val_acc: 0.7600\n",
      "Epoch 19/50\n",
      "542/542 [==============================] - 0s 362us/step - loss: 0.4709 - acc: 0.7897 - val_loss: 0.4925 - val_acc: 0.7100\n",
      "Epoch 20/50\n",
      "542/542 [==============================] - 0s 319us/step - loss: 0.4726 - acc: 0.7860 - val_loss: 0.4953 - val_acc: 0.8300\n",
      "Epoch 21/50\n",
      "542/542 [==============================] - 0s 325us/step - loss: 0.4438 - acc: 0.7897 - val_loss: 0.5207 - val_acc: 0.7200\n",
      "Epoch 22/50\n",
      "542/542 [==============================] - 0s 315us/step - loss: 0.4748 - acc: 0.7749 - val_loss: 0.4744 - val_acc: 0.7600\n",
      "Epoch 23/50\n",
      "542/542 [==============================] - 0s 317us/step - loss: 0.4374 - acc: 0.8118 - val_loss: 0.4247 - val_acc: 0.8400\n",
      "Epoch 24/50\n",
      "542/542 [==============================] - 0s 317us/step - loss: 0.4317 - acc: 0.7860 - val_loss: 0.4452 - val_acc: 0.8100\n",
      "Epoch 25/50\n",
      "542/542 [==============================] - 0s 328us/step - loss: 0.4352 - acc: 0.7989 - val_loss: 0.4537 - val_acc: 0.8300\n",
      "Epoch 26/50\n",
      "542/542 [==============================] - 0s 332us/step - loss: 0.3122 - acc: 0.8930 - val_loss: 0.7306 - val_acc: 0.6950\n",
      "Epoch 27/50\n",
      "542/542 [==============================] - 0s 358us/step - loss: 0.4153 - acc: 0.7915 - val_loss: 0.5853 - val_acc: 0.6950\n",
      "Epoch 28/50\n",
      "542/542 [==============================] - 0s 391us/step - loss: 0.3903 - acc: 0.8303 - val_loss: 0.4090 - val_acc: 0.8150\n",
      "Epoch 29/50\n",
      "542/542 [==============================] - 0s 352us/step - loss: 0.3656 - acc: 0.8524 - val_loss: 0.6955 - val_acc: 0.7000\n",
      "Epoch 30/50\n",
      "542/542 [==============================] - 0s 386us/step - loss: 0.3567 - acc: 0.8469 - val_loss: 0.4249 - val_acc: 0.8250\n",
      "Epoch 31/50\n",
      "542/542 [==============================] - 0s 338us/step - loss: 0.3619 - acc: 0.8413 - val_loss: 0.4364 - val_acc: 0.7900\n",
      "Epoch 32/50\n",
      "542/542 [==============================] - 0s 330us/step - loss: 0.3397 - acc: 0.8727 - val_loss: 0.7972 - val_acc: 0.5650\n",
      "Epoch 33/50\n",
      "542/542 [==============================] - 0s 376us/step - loss: 0.4042 - acc: 0.8321 - val_loss: 0.4757 - val_acc: 0.8550\n",
      "Epoch 34/50\n",
      "542/542 [==============================] - 0s 323us/step - loss: 0.3688 - acc: 0.8727 - val_loss: 0.6294 - val_acc: 0.5950\n",
      "Epoch 35/50\n",
      "542/542 [==============================] - 0s 317us/step - loss: 0.3717 - acc: 0.8450 - val_loss: 0.4468 - val_acc: 0.8000\n",
      "Epoch 36/50\n",
      "542/542 [==============================] - 0s 328us/step - loss: 0.3118 - acc: 0.8745 - val_loss: 0.5472 - val_acc: 0.7400\n",
      "Epoch 37/50\n",
      "542/542 [==============================] - 0s 330us/step - loss: 0.3009 - acc: 0.8838 - val_loss: 0.4993 - val_acc: 0.7550\n",
      "Epoch 38/50\n",
      "542/542 [==============================] - 0s 328us/step - loss: 0.3521 - acc: 0.8561 - val_loss: 0.4015 - val_acc: 0.8200\n",
      "Epoch 39/50\n",
      "542/542 [==============================] - 0s 314us/step - loss: 0.3649 - acc: 0.8506 - val_loss: 0.4335 - val_acc: 0.7950\n",
      "Epoch 40/50\n",
      "542/542 [==============================] - 0s 325us/step - loss: 0.2499 - acc: 0.9041 - val_loss: 0.7337 - val_acc: 0.7200\n",
      "Epoch 41/50\n",
      "542/542 [==============================] - 0s 317us/step - loss: 0.3491 - acc: 0.8727 - val_loss: 0.3895 - val_acc: 0.8350\n",
      "Epoch 42/50\n",
      "542/542 [==============================] - 0s 303us/step - loss: 0.2125 - acc: 0.9225 - val_loss: 0.4585 - val_acc: 0.8100\n",
      "Epoch 43/50\n",
      "542/542 [==============================] - 0s 323us/step - loss: 0.2616 - acc: 0.8911 - val_loss: 0.4104 - val_acc: 0.8350\n",
      "Epoch 44/50\n",
      "542/542 [==============================] - 0s 336us/step - loss: 0.2748 - acc: 0.8856 - val_loss: 0.6883 - val_acc: 0.6650\n",
      "Epoch 45/50\n",
      "542/542 [==============================] - 0s 315us/step - loss: 0.2033 - acc: 0.9354 - val_loss: 0.4210 - val_acc: 0.8300\n",
      "Epoch 46/50\n",
      "542/542 [==============================] - 0s 336us/step - loss: 0.3038 - acc: 0.9077 - val_loss: 0.4440 - val_acc: 0.8050\n",
      "Epoch 47/50\n",
      "542/542 [==============================] - 0s 323us/step - loss: 0.2431 - acc: 0.9041 - val_loss: 0.3780 - val_acc: 0.8500\n",
      "Epoch 48/50\n",
      "542/542 [==============================] - 0s 340us/step - loss: 0.2011 - acc: 0.9280 - val_loss: 0.3908 - val_acc: 0.8500\n",
      "Epoch 49/50\n",
      "542/542 [==============================] - 0s 323us/step - loss: 0.2269 - acc: 0.9077 - val_loss: 0.3950 - val_acc: 0.8500\n",
      "Epoch 50/50\n",
      "542/542 [==============================] - 0s 336us/step - loss: 0.1795 - acc: 0.9428 - val_loss: 0.4111 - val_acc: 0.8350\n"
     ]
    }
   ],
   "source": [
    "model.compile(optimizer='sgd',\n",
    "              loss='binary_crossentropy',\n",
    "              metrics=['accuracy'])\n",
    "\n",
    "histoire = model.fit(train_img,\n",
    "                    train_y,\n",
    "                    epochs=50,\n",
    "                    batch_size=32,\n",
    "                    validation_data=(val_img, val_y))"
   ]
  },
  {
   "cell_type": "code",
   "execution_count": 29,
   "metadata": {
    "ExecuteTime": {
     "end_time": "2020-02-26T16:59:42.556733Z",
     "start_time": "2020-02-26T16:59:42.474733Z"
    }
   },
   "outputs": [
    {
     "name": "stdout",
     "output_type": "stream",
     "text": [
      "542/542 [==============================] - 0s 138us/step\n"
     ]
    }
   ],
   "source": [
    "results_train = model.evaluate(train_img, train_y)"
   ]
  },
  {
   "cell_type": "code",
   "execution_count": 30,
   "metadata": {
    "ExecuteTime": {
     "end_time": "2020-02-26T16:59:45.192152Z",
     "start_time": "2020-02-26T16:59:45.159147Z"
    }
   },
   "outputs": [
    {
     "name": "stdout",
     "output_type": "stream",
     "text": [
      "180/180 [==============================] - 0s 144us/step\n"
     ]
    }
   ],
   "source": [
    "results_test = model.evaluate(test_img, test_y)"
   ]
  },
  {
   "cell_type": "code",
   "execution_count": 31,
   "metadata": {
    "ExecuteTime": {
     "end_time": "2020-02-26T16:59:53.066997Z",
     "start_time": "2020-02-26T16:59:53.060003Z"
    }
   },
   "outputs": [
    {
     "data": {
      "text/plain": [
       "[0.1325763698763513, 0.977859778597786]"
      ]
     },
     "execution_count": 31,
     "metadata": {},
     "output_type": "execute_result"
    }
   ],
   "source": [
    "results_train"
   ]
  },
  {
   "cell_type": "code",
   "execution_count": 32,
   "metadata": {
    "ExecuteTime": {
     "end_time": "2020-02-26T16:59:55.565933Z",
     "start_time": "2020-02-26T16:59:55.556935Z"
    }
   },
   "outputs": [
    {
     "data": {
      "text/plain": [
       "[0.39565897319051957, 0.8666666666666667]"
      ]
     },
     "execution_count": 32,
     "metadata": {},
     "output_type": "execute_result"
    }
   ],
   "source": [
    "results_test"
   ]
  },
  {
   "cell_type": "markdown",
   "metadata": {},
   "source": [
    "Remember that, in our previous lab on building deeper neural networks from scratch, we obtained a training accuracy of 95%, and a test set accuracy of 74.23%. \n",
    "\n",
    "This result is similar to what we got building our manual \"deeper\" dense model. The results are not entirely different. This is not a surprise!\n",
    "- Before, we only had a training and a validation set (which was at the same time the test set). Now we have split up the data 3-ways.\n",
    "- We didn't use minibatches before, yet we used mini-batches of 32 units here.\n",
    " \n",
    "## Build a CNN"
   ]
  },
  {
   "cell_type": "code",
   "execution_count": 33,
   "metadata": {
    "ExecuteTime": {
     "end_time": "2020-02-26T17:01:49.673587Z",
     "start_time": "2020-02-26T17:01:49.416541Z"
    }
   },
   "outputs": [],
   "source": [
    "model = models.Sequential()\n",
    "model.add(layers.Conv2D(32, (3, 3), activation='relu',\n",
    "                        input_shape=(64 ,64,  3)))\n",
    "model.add(layers.MaxPooling2D((2, 2)))\n",
    "\n",
    "model.add(layers.Conv2D(32, (4, 4), activation='relu'))\n",
    "model.add(layers.MaxPooling2D((2, 2)))\n",
    "\n",
    "model.add(layers.Conv2D(64, (3, 3), activation='relu'))\n",
    "model.add(layers.MaxPooling2D((2, 2)))\n",
    "\n",
    "model.add(layers.Flatten())\n",
    "model.add(layers.Dense(64, activation='relu'))\n",
    "model.add(layers.Dense(1, activation='sigmoid'))\n",
    "\n",
    "model.compile(loss='binary_crossentropy',\n",
    "              optimizer=\"sgd\",\n",
    "              metrics=['acc'])"
   ]
  },
  {
   "cell_type": "code",
   "execution_count": 34,
   "metadata": {
    "ExecuteTime": {
     "end_time": "2020-02-26T17:04:44.632416Z",
     "start_time": "2020-02-26T17:01:58.649869Z"
    }
   },
   "outputs": [
    {
     "name": "stdout",
     "output_type": "stream",
     "text": [
      "Train on 542 samples, validate on 200 samples\n",
      "Epoch 1/30\n",
      "542/542 [==============================] - 5s 10ms/step - loss: 0.6836 - acc: 0.5240 - val_loss: 0.6720 - val_acc: 0.5000\n",
      "Epoch 2/30\n",
      "542/542 [==============================] - 6s 10ms/step - loss: 0.6739 - acc: 0.5000 - val_loss: 0.6650 - val_acc: 0.5000\n",
      "Epoch 3/30\n",
      "542/542 [==============================] - 6s 11ms/step - loss: 0.6669 - acc: 0.5000 - val_loss: 0.6573 - val_acc: 0.5000\n",
      "Epoch 4/30\n",
      "542/542 [==============================] - 5s 10ms/step - loss: 0.6603 - acc: 0.5074 - val_loss: 0.6492 - val_acc: 0.5300\n",
      "Epoch 5/30\n",
      "542/542 [==============================] - 5s 9ms/step - loss: 0.6494 - acc: 0.5517 - val_loss: 0.6384 - val_acc: 0.6050\n",
      "Epoch 6/30\n",
      "542/542 [==============================] - 5s 9ms/step - loss: 0.6381 - acc: 0.6107 - val_loss: 0.6239 - val_acc: 0.6400\n",
      "Epoch 7/30\n",
      "542/542 [==============================] - 6s 10ms/step - loss: 0.6235 - acc: 0.6624 - val_loss: 0.6052 - val_acc: 0.6550\n",
      "Epoch 8/30\n",
      "542/542 [==============================] - 6s 11ms/step - loss: 0.6057 - acc: 0.7011 - val_loss: 0.5870 - val_acc: 0.8100\n",
      "Epoch 9/30\n",
      "542/542 [==============================] - 6s 10ms/step - loss: 0.5858 - acc: 0.7712 - val_loss: 0.5575 - val_acc: 0.7050\n",
      "Epoch 10/30\n",
      "542/542 [==============================] - 6s 10ms/step - loss: 0.5716 - acc: 0.7601 - val_loss: 0.5487 - val_acc: 0.6400\n",
      "Epoch 11/30\n",
      "542/542 [==============================] - 6s 11ms/step - loss: 0.5420 - acc: 0.7897 - val_loss: 0.4958 - val_acc: 0.9050\n",
      "Epoch 12/30\n",
      "542/542 [==============================] - 6s 11ms/step - loss: 0.5163 - acc: 0.7897 - val_loss: 0.5053 - val_acc: 0.8400\n",
      "Epoch 13/30\n",
      "542/542 [==============================] - 5s 10ms/step - loss: 0.4882 - acc: 0.8026 - val_loss: 0.4282 - val_acc: 0.9050\n",
      "Epoch 14/30\n",
      "542/542 [==============================] - 6s 10ms/step - loss: 0.5277 - acc: 0.7399 - val_loss: 0.4065 - val_acc: 0.9050\n",
      "Epoch 15/30\n",
      "542/542 [==============================] - 6s 11ms/step - loss: 0.4918 - acc: 0.7786 - val_loss: 0.3909 - val_acc: 0.9200\n",
      "Epoch 16/30\n",
      "542/542 [==============================] - 5s 10ms/step - loss: 0.4778 - acc: 0.8026 - val_loss: 0.3921 - val_acc: 0.9100\n",
      "Epoch 17/30\n",
      "542/542 [==============================] - 5s 10ms/step - loss: 0.4221 - acc: 0.8413 - val_loss: 0.4377 - val_acc: 0.8050\n",
      "Epoch 18/30\n",
      "542/542 [==============================] - 6s 10ms/step - loss: 0.4265 - acc: 0.8266 - val_loss: 0.7700 - val_acc: 0.5700\n",
      "Epoch 19/30\n",
      "542/542 [==============================] - 6s 10ms/step - loss: 0.4144 - acc: 0.8506 - val_loss: 0.6639 - val_acc: 0.6200\n",
      "Epoch 20/30\n",
      "542/542 [==============================] - 6s 11ms/step - loss: 0.4289 - acc: 0.8155 - val_loss: 0.4003 - val_acc: 0.8000\n",
      "Epoch 21/30\n",
      "542/542 [==============================] - 6s 11ms/step - loss: 0.3487 - acc: 0.8856 - val_loss: 0.2739 - val_acc: 0.9250\n",
      "Epoch 22/30\n",
      "542/542 [==============================] - 6s 11ms/step - loss: 0.3887 - acc: 0.8266 - val_loss: 0.2843 - val_acc: 0.9250\n",
      "Epoch 23/30\n",
      "542/542 [==============================] - 6s 11ms/step - loss: 0.2939 - acc: 0.9059 - val_loss: 0.2735 - val_acc: 0.9300\n",
      "Epoch 24/30\n",
      "542/542 [==============================] - 6s 11ms/step - loss: 0.3060 - acc: 0.8838 - val_loss: 0.2770 - val_acc: 0.9000\n",
      "Epoch 25/30\n",
      "542/542 [==============================] - 6s 11ms/step - loss: 0.3299 - acc: 0.8690 - val_loss: 0.2668 - val_acc: 0.9200\n",
      "Epoch 26/30\n",
      "542/542 [==============================] - 5s 10ms/step - loss: 0.2997 - acc: 0.8967 - val_loss: 0.2673 - val_acc: 0.9200\n",
      "Epoch 27/30\n",
      "542/542 [==============================] - 5s 10ms/step - loss: 0.2974 - acc: 0.8764 - val_loss: 0.2238 - val_acc: 0.9300\n",
      "Epoch 28/30\n",
      "542/542 [==============================] - 5s 10ms/step - loss: 0.2465 - acc: 0.9133 - val_loss: 0.2199 - val_acc: 0.9350\n",
      "Epoch 29/30\n",
      "542/542 [==============================] - 5s 9ms/step - loss: 0.2773 - acc: 0.8856 - val_loss: 0.2769 - val_acc: 0.9100\n",
      "Epoch 30/30\n",
      "542/542 [==============================] - 5s 9ms/step - loss: 0.2496 - acc: 0.9077 - val_loss: 0.2410 - val_acc: 0.9250\n"
     ]
    }
   ],
   "source": [
    "history = model.fit(train_images,\n",
    "                    train_y,\n",
    "                    epochs=30,\n",
    "                    batch_size=32,\n",
    "                    validation_data=(val_images, val_y))"
   ]
  },
  {
   "cell_type": "code",
   "execution_count": 35,
   "metadata": {
    "ExecuteTime": {
     "end_time": "2020-02-26T17:04:46.544422Z",
     "start_time": "2020-02-26T17:04:44.787429Z"
    }
   },
   "outputs": [
    {
     "name": "stdout",
     "output_type": "stream",
     "text": [
      "542/542 [==============================] - 2s 3ms/step\n"
     ]
    }
   ],
   "source": [
    "results_train = model.evaluate(train_images, train_y)"
   ]
  },
  {
   "cell_type": "code",
   "execution_count": 36,
   "metadata": {
    "ExecuteTime": {
     "end_time": "2020-02-26T17:04:47.155427Z",
     "start_time": "2020-02-26T17:04:46.549422Z"
    }
   },
   "outputs": [
    {
     "name": "stdout",
     "output_type": "stream",
     "text": [
      "180/180 [==============================] - 1s 3ms/step\n"
     ]
    }
   ],
   "source": [
    "results_test = model.evaluate(test_images, test_y)"
   ]
  },
  {
   "cell_type": "code",
   "execution_count": 37,
   "metadata": {
    "ExecuteTime": {
     "end_time": "2020-02-26T17:04:47.172419Z",
     "start_time": "2020-02-26T17:04:47.162428Z"
    }
   },
   "outputs": [
    {
     "data": {
      "text/plain": [
       "[0.24326161176956007, 0.9243542437623787]"
      ]
     },
     "execution_count": 37,
     "metadata": {},
     "output_type": "execute_result"
    }
   ],
   "source": [
    "results_train"
   ]
  },
  {
   "cell_type": "code",
   "execution_count": 38,
   "metadata": {
    "ExecuteTime": {
     "end_time": "2020-02-26T17:04:47.190421Z",
     "start_time": "2020-02-26T17:04:47.177424Z"
    }
   },
   "outputs": [
    {
     "data": {
      "text/plain": [
       "[0.3089502066373825, 0.9055555529064603]"
      ]
     },
     "execution_count": 38,
     "metadata": {},
     "output_type": "execute_result"
    }
   ],
   "source": [
    "results_test"
   ]
  },
  {
   "cell_type": "markdown",
   "metadata": {},
   "source": [
    "## Data Augmentation"
   ]
  },
  {
   "cell_type": "markdown",
   "metadata": {},
   "source": [
    "`ImageDataGenerator()` becomes really useful when we *actually* want to generate more data. We'll show you how this works. "
   ]
  },
  {
   "cell_type": "code",
   "execution_count": 39,
   "metadata": {
    "ExecuteTime": {
     "end_time": "2020-02-26T17:04:47.205421Z",
     "start_time": "2020-02-26T17:04:47.198421Z"
    }
   },
   "outputs": [],
   "source": [
    "train_datagen = ImageDataGenerator(rescale=1./255, \n",
    "                                   rotation_range=40, \n",
    "                                   width_shift_range=0.2, \n",
    "                                   height_shift_range=0.2, \n",
    "                                   shear_range=0.3, \n",
    "                                   zoom_range=0.1, \n",
    "                                   horizontal_flip=False)"
   ]
  },
  {
   "cell_type": "code",
   "execution_count": 40,
   "metadata": {
    "ExecuteTime": {
     "end_time": "2020-02-26T17:04:47.921420Z",
     "start_time": "2020-02-26T17:04:47.212421Z"
    }
   },
   "outputs": [
    {
     "data": {
      "image/png": "[encoded data removed]",
      "text/plain": [
       "<Figure size 432x288 with 1 Axes>"
      ]
     },
     "metadata": {
      "needs_background": "light"
     },
     "output_type": "display_data"
    },
    {
     "data": {
      "image/png": "[encoded data removed]",
      "text/plain": [
       "<Figure size 432x288 with 1 Axes>"
      ]
     },
     "metadata": {
      "needs_background": "light"
     },
     "output_type": "display_data"
    },
    {
     "data": {
      "image/png": "[encoded data removed]",
      "text/plain": [
       "<Figure size 432x288 with 1 Axes>"
      ]
     },
     "metadata": {
      "needs_background": "light"
     },
     "output_type": "display_data"
    }
   ],
   "source": [
    "names = [os.path.join(train_santa, name) for name in os.listdir(train_santa)]\n",
    "img_path = names[91]\n",
    "img = load_img(img_path, target_size=(64, 64))\n",
    "\n",
    "reshape_img = img_to_array(img) \n",
    "reshape_img = reshape_img.reshape((1,) + reshape_img.shape) \n",
    "i=0\n",
    "for batch in train_datagen.flow(reshape_img, batch_size=1):\n",
    "    plt.figure(i)\n",
    "    imgplot = plt.imshow(array_to_img(batch[0]))\n",
    "    i += 1\n",
    "    if i % 3 == 0:\n",
    "        break\n",
    "plt.show()"
   ]
  },
  {
   "cell_type": "code",
   "execution_count": 41,
   "metadata": {
    "ExecuteTime": {
     "end_time": "2020-02-26T17:04:48.256416Z",
     "start_time": "2020-02-26T17:04:47.925422Z"
    }
   },
   "outputs": [
    {
     "name": "stdout",
     "output_type": "stream",
     "text": [
      "Found 180 images belonging to 2 classes.\n",
      "Found 200 images belonging to 2 classes.\n",
      "Found 542 images belonging to 2 classes.\n"
     ]
    }
   ],
   "source": [
    "# get all the data in the directory split/test (180 images), and reshape them\n",
    "test_generator = ImageDataGenerator(rescale=1./255).flow_from_directory(\n",
    "        test_folder, \n",
    "        target_size=(64, 64), \n",
    "        batch_size = 180,\n",
    "        class_mode='binary') \n",
    "\n",
    "# get all the data in the directory split/validation (200 images), and reshape them\n",
    "val_generator = ImageDataGenerator(rescale=1./255).flow_from_directory(\n",
    "        val_folder, \n",
    "        target_size=(64, 64),\n",
    "        batch_size = 32,\n",
    "        class_mode='binary')\n",
    "\n",
    "# get all the data in the directory split/train (542 images), and reshape them\n",
    "train_generator = train_datagen.flow_from_directory(\n",
    "        train_folder, \n",
    "        target_size=(64, 64), \n",
    "        batch_size = 32, \n",
    "        class_mode='binary')"
   ]
  },
  {
   "cell_type": "code",
   "execution_count": 42,
   "metadata": {
    "ExecuteTime": {
     "end_time": "2020-02-26T17:04:48.400437Z",
     "start_time": "2020-02-26T17:04:48.260418Z"
    }
   },
   "outputs": [],
   "source": [
    "model = models.Sequential()\n",
    "model.add(layers.Conv2D(32, (3, 3), activation='relu',\n",
    "                        input_shape=(64 ,64,  3)))\n",
    "model.add(layers.MaxPooling2D((2, 2)))\n",
    "\n",
    "model.add(layers.Conv2D(32, (4, 4), activation='relu'))\n",
    "model.add(layers.MaxPooling2D((2, 2)))\n",
    "\n",
    "model.add(layers.Conv2D(64, (3, 3), activation='relu'))\n",
    "model.add(layers.MaxPooling2D((2, 2)))\n",
    "\n",
    "model.add(layers.Flatten())\n",
    "model.add(layers.Dense(64, activation='relu'))\n",
    "model.add(layers.Dense(1, activation='sigmoid'))\n",
    "\n",
    "model.compile(loss='binary_crossentropy',\n",
    "              optimizer= 'sgd',\n",
    "              metrics=['acc'])"
   ]
  },
  {
   "cell_type": "code",
   "execution_count": 43,
   "metadata": {
    "ExecuteTime": {
     "end_time": "2020-02-26T17:15:18.997845Z",
     "start_time": "2020-02-26T17:04:48.404415Z"
    }
   },
   "outputs": [
    {
     "name": "stdout",
     "output_type": "stream",
     "text": [
      "Epoch 1/30\n",
      "25/25 [==============================] - 23s 924ms/step - loss: 0.6859 - acc: 0.4938 - val_loss: 0.6789 - val_acc: 0.5000\n",
      "Epoch 2/30\n",
      "25/25 [==============================] - 19s 766ms/step - loss: 0.6780 - acc: 0.5049 - val_loss: 0.6713 - val_acc: 0.5000\n",
      "Epoch 3/30\n",
      "25/25 [==============================] - 20s 799ms/step - loss: 0.6747 - acc: 0.4974 - val_loss: 0.6651 - val_acc: 0.5000\n",
      "Epoch 4/30\n",
      "25/25 [==============================] - 23s 923ms/step - loss: 0.6652 - acc: 0.5100 - val_loss: 0.6580 - val_acc: 0.5100\n",
      "Epoch 5/30\n",
      "25/25 [==============================] - 20s 803ms/step - loss: 0.6611 - acc: 0.5113 - val_loss: 0.6481 - val_acc: 0.5100\n",
      "Epoch 6/30\n",
      "25/25 [==============================] - 21s 839ms/step - loss: 0.6502 - acc: 0.5172 - val_loss: 0.6353 - val_acc: 0.5300\n",
      "Epoch 7/30\n",
      "25/25 [==============================] - 21s 827ms/step - loss: 0.6440 - acc: 0.5477 - val_loss: 0.6193 - val_acc: 0.5900\n",
      "Epoch 8/30\n",
      "25/25 [==============================] - 21s 822ms/step - loss: 0.6241 - acc: 0.6155 - val_loss: 0.6091 - val_acc: 0.8850\n",
      "Epoch 9/30\n",
      "25/25 [==============================] - 21s 831ms/step - loss: 0.6054 - acc: 0.7381 - val_loss: 0.5697 - val_acc: 0.8200\n",
      "Epoch 10/30\n",
      "25/25 [==============================] - 20s 818ms/step - loss: 0.5786 - acc: 0.7695 - val_loss: 0.5312 - val_acc: 0.8150\n",
      "Epoch 11/30\n",
      "25/25 [==============================] - 22s 891ms/step - loss: 0.5518 - acc: 0.7975 - val_loss: 0.5011 - val_acc: 0.9000\n",
      "Epoch 12/30\n",
      "25/25 [==============================] - 19s 773ms/step - loss: 0.5229 - acc: 0.8141 - val_loss: 0.4754 - val_acc: 0.7300\n",
      "Epoch 13/30\n",
      "25/25 [==============================] - 22s 887ms/step - loss: 0.4758 - acc: 0.8186 - val_loss: 0.4021 - val_acc: 0.8800\n",
      "Epoch 14/30\n",
      "25/25 [==============================] - 19s 775ms/step - loss: 0.4792 - acc: 0.7998 - val_loss: 0.3851 - val_acc: 0.9150\n",
      "Epoch 15/30\n",
      "25/25 [==============================] - 23s 927ms/step - loss: 0.4569 - acc: 0.7982 - val_loss: 0.3601 - val_acc: 0.8700\n",
      "Epoch 16/30\n",
      "25/25 [==============================] - 21s 838ms/step - loss: 0.4244 - acc: 0.8186 - val_loss: 0.3306 - val_acc: 0.9150\n",
      "Epoch 17/30\n",
      "25/25 [==============================] - 21s 823ms/step - loss: 0.3728 - acc: 0.8597 - val_loss: 0.2955 - val_acc: 0.9100\n",
      "Epoch 18/30\n",
      "25/25 [==============================] - 23s 928ms/step - loss: 0.4042 - acc: 0.8318 - val_loss: 0.3148 - val_acc: 0.8950\n",
      "Epoch 19/30\n",
      "25/25 [==============================] - 20s 794ms/step - loss: 0.3662 - acc: 0.8558 - val_loss: 0.2745 - val_acc: 0.9100\n",
      "Epoch 20/30\n",
      "25/25 [==============================] - 23s 908ms/step - loss: 0.3333 - acc: 0.8681 - val_loss: 0.2368 - val_acc: 0.9350\n",
      "Epoch 21/30\n",
      "25/25 [==============================] - 20s 784ms/step - loss: 0.3270 - acc: 0.8663 - val_loss: 0.3023 - val_acc: 0.9000\n",
      "Epoch 22/30\n",
      "25/25 [==============================] - 22s 887ms/step - loss: 0.3375 - acc: 0.8552 - val_loss: 0.2488 - val_acc: 0.9250\n",
      "Epoch 23/30\n",
      "25/25 [==============================] - 22s 867ms/step - loss: 0.2982 - acc: 0.8813 - val_loss: 0.3002 - val_acc: 0.9000\n",
      "Epoch 24/30\n",
      "25/25 [==============================] - 20s 800ms/step - loss: 0.3051 - acc: 0.8907 - val_loss: 0.2301 - val_acc: 0.9300\n",
      "Epoch 25/30\n",
      "25/25 [==============================] - 20s 799ms/step - loss: 0.2381 - acc: 0.9185 - val_loss: 0.2658 - val_acc: 0.9200\n",
      "Epoch 26/30\n",
      "25/25 [==============================] - 20s 789ms/step - loss: 0.2735 - acc: 0.8987 - val_loss: 0.3726 - val_acc: 0.8650\n",
      "Epoch 27/30\n",
      "25/25 [==============================] - 20s 813ms/step - loss: 0.2510 - acc: 0.9105 - val_loss: 0.2472 - val_acc: 0.9150\n",
      "Epoch 28/30\n",
      "25/25 [==============================] - 22s 866ms/step - loss: 0.2723 - acc: 0.8912 - val_loss: 0.3158 - val_acc: 0.8600\n",
      "Epoch 29/30\n",
      "25/25 [==============================] - 21s 850ms/step - loss: 0.2762 - acc: 0.8933 - val_loss: 0.3885 - val_acc: 0.8600\n",
      "Epoch 30/30\n",
      "25/25 [==============================] - 21s 854ms/step - loss: 0.2502 - acc: 0.8933 - val_loss: 0.3356 - val_acc: 0.8750\n"
     ]
    }
   ],
   "source": [
    "history_2 = model.fit_generator(train_generator, \n",
    "                                steps_per_epoch=25, \n",
    "                                epochs=30, \n",
    "                                validation_data=val_generator, \n",
    "                                validation_steps=25)"
   ]
  },
  {
   "cell_type": "code",
   "execution_count": 44,
   "metadata": {
    "ExecuteTime": {
     "end_time": "2020-02-26T17:15:22.798749Z",
     "start_time": "2020-02-26T17:15:19.002843Z"
    }
   },
   "outputs": [],
   "source": [
    "test_x, test_y = next(test_generator)"
   ]
  },
  {
   "cell_type": "code",
   "execution_count": 45,
   "metadata": {
    "ExecuteTime": {
     "end_time": "2020-02-26T17:15:23.367757Z",
     "start_time": "2020-02-26T17:15:22.803747Z"
    }
   },
   "outputs": [
    {
     "name": "stdout",
     "output_type": "stream",
     "text": [
      "180/180 [==============================] - 1s 3ms/step\n"
     ]
    }
   ],
   "source": [
    "results_test = model.evaluate(test_x, test_y)"
   ]
  },
  {
   "cell_type": "code",
   "execution_count": 46,
   "metadata": {
    "ExecuteTime": {
     "end_time": "2020-02-26T17:15:23.379750Z",
     "start_time": "2020-02-26T17:15:23.371751Z"
    }
   },
   "outputs": [
    {
     "data": {
      "text/plain": [
       "[0.33925190899107194, 0.9055555582046508]"
      ]
     },
     "execution_count": 46,
     "metadata": {},
     "output_type": "execute_result"
    }
   ],
   "source": [
    "results_test"
   ]
  },
  {
   "cell_type": "markdown",
   "metadata": {},
   "source": [
    "## Summary  \n",
    "\n",
    "In this code along lab, we looked again at some of the preprocessing techniques needed in order to organize our data prior to building a model using Keras. Afterwards, we investigated new code in order to build a CNN for image recognition."
   ]
  }
 ],
 "metadata": {
  "kernelspec": {
   "display_name": "Python 3",
   "language": "python",
   "name": "python3"
  },
  "language_info": {
   "codemirror_mode": {
    "name": "ipython",
    "version": 3
   },
   "file_extension": ".py",
   "mimetype": "text/x-python",
   "name": "python",
   "nbconvert_exporter": "python",
   "pygments_lexer": "ipython3",
   "version": "3.6.6"
  },
  "toc": {
   "base_numbering": 1,
   "nav_menu": {},
   "number_sections": true,
   "sideBar": true,
   "skip_h1_title": false,
   "title_cell": "Table of Contents",
   "title_sidebar": "Contents",
   "toc_cell": false,
   "toc_position": {},
   "toc_section_display": true,
   "toc_window_display": false
  },
  "varInspector": {
   "cols": {
    "lenName": 16,
    "lenType": 16,
    "lenVar": 40
   },
   "kernels_config": {
    "python": {
     "delete_cmd_postfix": "",
     "delete_cmd_prefix": "del ",
     "library": "var_list.py",
     "varRefreshCmd": "print(var_dic_list())"
    },
    "r": {
     "delete_cmd_postfix": ") ",
     "delete_cmd_prefix": "rm(",
     "library": "var_list.r",
     "varRefreshCmd": "cat(var_dic_list()) "
    }
   },
   "types_to_exclude": [
    "module",
    "function",
    "builtin_function_or_method",
    "instance",
    "_Feature"
   ],
   "window_display": false
  }
 },
 "nbformat": 4,
 "nbformat_minor": 2
}
